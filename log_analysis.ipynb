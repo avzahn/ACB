{
 "cells": [
  {
   "cell_type": "code",
   "execution_count": 1,
   "metadata": {
    "collapsed": false
   },
   "outputs": [],
   "source": [
    "from px import *\n",
    "\n",
    "class log(object):\n",
    "    def __init__(self,logname):\n",
    "        \n",
    "        with open(logname, 'r') as f:\n",
    "             self.lines = f.readlines()\n",
    "                \n",
    "        self.invalid = []\n",
    "        self.rsp = []\n",
    "        self.cmd = []\n",
    "        self.other = []\n",
    "        self.all = []\n",
    "        \n",
    "        lno = 1\n",
    "        for line in self.lines:\n",
    "            self.parse_line(line,lno)\n",
    "            lno += 1\n",
    "            \n",
    "    def parse_line(self,line,lno):\n",
    "        \n",
    "        if \"sending\" in line:\n",
    "            self.cmd.append(self.parse_cmd_rsp(line,lno))\n",
    "            self.all.append(\"cmd\")\n",
    "        elif \"receiving\" in line:\n",
    "            self.rsp.append(self.parse_cmd_rsp(line,lno))\n",
    "            self.all.append(\"rsp\")\n",
    "        elif \"invalid\" in line:\n",
    "            self.invalid.append(lno)\n",
    "            self.all.append(\"invalid\")\n",
    "        else:\n",
    "            self.other.append(lno)\n",
    "            self.all.append(\"other\")\n",
    "    \n",
    "    def parse_cmd_rsp(self,line,lno):\n",
    "            \n",
    "        l = line.split(' ')\n",
    "        t = float(l[1][:-3])\n",
    "        val = ''\n",
    "        for v in l[2:]:\n",
    "            if len(v) != 2:\n",
    "                v = '0'+v\n",
    "            val += v\n",
    "                \n",
    "        return lno,t,command(val)\n",
    "        "
   ]
  },
  {
   "cell_type": "code",
   "execution_count": 8,
   "metadata": {
    "collapsed": false
   },
   "outputs": [],
   "source": [
    "l=log95.lines[78].split(' ')\n",
    "val = ''\n",
    "for v in l[2:]:\n",
    "    if len(v) != 2:\n",
    "        v = '0'+v\n",
    "    val += v\n"
   ]
  },
  {
   "cell_type": "code",
   "execution_count": 9,
   "metadata": {
    "collapsed": false
   },
   "outputs": [
    {
     "data": {
      "text/plain": [
       "'5058000e0000000001000000000000070\\n'"
      ]
     },
     "execution_count": 9,
     "metadata": {},
     "output_type": "execute_result"
    }
   ],
   "source": [
    "val"
   ]
  },
  {
   "cell_type": "code",
   "execution_count": 10,
   "metadata": {
    "collapsed": false
   },
   "outputs": [
    {
     "data": {
      "text/plain": [
       "(79, 0.763668, <px.command at 0x3feb978>)"
      ]
     },
     "execution_count": 10,
     "metadata": {},
     "output_type": "execute_result"
    }
   ],
   "source": [
    "log95.cmd[0]"
   ]
  },
  {
   "cell_type": "code",
   "execution_count": 15,
   "metadata": {
    "collapsed": false
   },
   "outputs": [
    {
     "data": {
      "text/plain": [
       "14"
      ]
     },
     "execution_count": 15,
     "metadata": {},
     "output_type": "execute_result"
    }
   ],
   "source": [
    "int('000e',16)"
   ]
  },
  {
   "cell_type": "code",
   "execution_count": 14,
   "metadata": {
    "collapsed": false
   },
   "outputs": [
    {
     "data": {
      "text/plain": [
       "'000e'"
      ]
     },
     "execution_count": 14,
     "metadata": {},
     "output_type": "execute_result"
    }
   ],
   "source": [
    "cmd = command(val)\n",
    "cmd.val[4:8]"
   ]
  },
  {
   "cell_type": "code",
   "execution_count": 2,
   "metadata": {
    "collapsed": false
   },
   "outputs": [],
   "source": [
    "log95 = log(\"log_RP95Hz.txt\")\n",
    "l = log95\n",
    "cmd95_header = [c[2].header for c in l.cmd]\n",
    "rsp95_header = [c[2].header for c in l.rsp]\n",
    "cmd95_lno = [c[0] for c in l.cmd]\n",
    "rsp95_lno = [c[0] for c in l.rsp]\n",
    "\n",
    "log80 = log(\"log_RP80Hz.txt\")\n",
    "l = log80\n",
    "cmd80_header = [c[2].header for c in l.cmd]\n",
    "rsp80_header = [c[2].header for c in l.rsp]\n",
    "cmd80_lno = [c[0] for c in l.cmd]\n",
    "rsp80_lno = [c[0] for c in l.rsp]\n",
    "\n",
    "log59 = log(\"log_RP59Hz.txt\")\n",
    "l = log59\n",
    "cmd59_header = [c[2].header for c in l.cmd]\n",
    "rsp59_header = [c[2].header for c in l.rsp]\n",
    "cmd59_lno = [c[0] for c in l.cmd]\n",
    "rsp59_lno = [c[0] for c in l.rsp]"
   ]
  },
  {
   "cell_type": "code",
   "execution_count": 3,
   "metadata": {
    "collapsed": false
   },
   "outputs": [
    {
     "name": "stdout",
     "output_type": "stream",
     "text": [
      "Using matplotlib backend: Qt4Agg\n",
      "Populating the interactive namespace from numpy and matplotlib\n"
     ]
    },
    {
     "name": "stderr",
     "output_type": "stream",
     "text": [
      "WARNING: pylab import has clobbered these variables: ['log']\n",
      "`%matplotlib` prevents importing * from pylab and numpy\n"
     ]
    }
   ],
   "source": [
    "%pylab"
   ]
  },
  {
   "cell_type": "code",
   "execution_count": 26,
   "metadata": {
    "collapsed": false
   },
   "outputs": [
    {
     "data": {
      "text/plain": [
       "[<matplotlib.lines.Line2D at 0x703db70>]"
      ]
     },
     "execution_count": 26,
     "metadata": {},
     "output_type": "execute_result"
    }
   ],
   "source": [
    "plot( np.diff(cmd95_lno) )"
   ]
  },
  {
   "cell_type": "code",
   "execution_count": 5,
   "metadata": {
    "collapsed": false
   },
   "outputs": [
    {
     "data": {
      "text/plain": [
       "[<matplotlib.lines.Line2D at 0xc57f5c0>]"
      ]
     },
     "execution_count": 5,
     "metadata": {},
     "output_type": "execute_result"
    }
   ],
   "source": [
    "plot( cmd95_header )\n",
    "plot( cmd59_header )"
   ]
  },
  {
   "cell_type": "code",
   "execution_count": 34,
   "metadata": {
    "collapsed": false
   },
   "outputs": [
    {
     "data": {
      "text/plain": [
       "32768"
      ]
     },
     "execution_count": 34,
     "metadata": {},
     "output_type": "execute_result"
    }
   ],
   "source": [
    "log95.cmd[0][2].header"
   ]
  },
  {
   "cell_type": "code",
   "execution_count": 4,
   "metadata": {
    "collapsed": false
   },
   "outputs": [
    {
     "data": {
      "text/plain": [
       "14"
      ]
     },
     "execution_count": 4,
     "metadata": {},
     "output_type": "execute_result"
    }
   ],
   "source": [
    "cmd95_header[0]"
   ]
  },
  {
   "cell_type": "code",
   "execution_count": 16,
   "metadata": {
    "collapsed": false
   },
   "outputs": [
    {
     "data": {
      "text/plain": [
       "224"
      ]
     },
     "execution_count": 16,
     "metadata": {},
     "output_type": "execute_result"
    }
   ],
   "source": [
    "14*16"
   ]
  },
  {
   "cell_type": "code",
   "execution_count": 8,
   "metadata": {
    "collapsed": false
   },
   "outputs": [
    {
     "data": {
      "text/plain": [
       "[<matplotlib.lines.Line2D at 0xf3f2978>]"
      ]
     },
     "execution_count": 8,
     "metadata": {},
     "output_type": "execute_result"
    }
   ],
   "source": [
    "plot(np.diff(cmd95_header),marker='.')"
   ]
  },
  {
   "cell_type": "code",
   "execution_count": null,
   "metadata": {
    "collapsed": true
   },
   "outputs": [],
   "source": []
  }
 ],
 "metadata": {
  "kernelspec": {
   "display_name": "Python 2",
   "language": "python",
   "name": "python2"
  },
  "language_info": {
   "codemirror_mode": {
    "name": "ipython",
    "version": 2
   },
   "file_extension": ".py",
   "mimetype": "text/x-python",
   "name": "python",
   "nbconvert_exporter": "python",
   "pygments_lexer": "ipython2",
   "version": "2.7.6"
  }
 },
 "nbformat": 4,
 "nbformat_minor": 0
}

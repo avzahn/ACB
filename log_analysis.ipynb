{
 "cells": [
  {
   "cell_type": "code",
   "execution_count": 31,
   "metadata": {
    "collapsed": false
   },
   "outputs": [
    {
     "name": "stdout",
     "output_type": "stream",
     "text": [
      "Using matplotlib backend: Qt4Agg\n",
      "Populating the interactive namespace from numpy and matplotlib\n"
     ]
    },
    {
     "name": "stderr",
     "output_type": "stream",
     "text": [
      "WARNING: pylab import has clobbered these variables: ['log']\n",
      "`%matplotlib` prevents importing * from pylab and numpy\n"
     ]
    }
   ],
   "source": [
    "%pylab\n",
    "from px import *\n",
    "import numpy as np\n",
    "\n",
    "class log(object):\n",
    "    def __init__(self,logname):\n",
    "        \n",
    "        with open(logname, 'r') as f:\n",
    "             self.lines = f.readlines()\n",
    "                \n",
    "        # every index corresponds to a line of the log file. The value at an index\n",
    "        # is a string classifying the line as a command, response, spurious interrupt,\n",
    "        # or invalid sequence response\n",
    "        self.all = []\n",
    "        \n",
    "        # lists containing the line numbers at which various types of entries occur; essentially\n",
    "        # this is just a re-indexing of self.all\n",
    "        self.invalid = []\n",
    "        self.rsp = [] # self.rsp and cmd will be (line number,system time, command) tuples so\n",
    "        self.cmd = [] # (cont) that self.cmd[n][2] has all the message information for the nth command\n",
    "        self.other = []\n",
    "        self.spurious = []\n",
    "        \n",
    "        lno = 1\n",
    "        for line in self.lines:\n",
    "            self.parse_line(line,lno)\n",
    "            lno += 1\n",
    "            \n",
    "        self.analyze()\n",
    "            \n",
    "    def parse_line(self,line,lno):\n",
    "        \"\"\"\n",
    "        Classify each line of the log and update the lists\n",
    "        defined in __init__\n",
    "        \"\"\"\n",
    "        \n",
    "        if \"sending\" in line:\n",
    "            self.cmd.append(self.parse_cmd_rsp(line,lno))\n",
    "            self.all.append(\"cmd\")\n",
    "        elif \"receiving\" in line:\n",
    "            self.rsp.append(self.parse_cmd_rsp(line,lno))\n",
    "            self.all.append(\"rsp\")\n",
    "        elif \"invalid\" in line:\n",
    "            self.invalid.append(lno)\n",
    "            self.all.append(\"invalid\")\n",
    "        elif \"Spurious\" in line:\n",
    "            self.spurious.append(lno)\n",
    "            self.all.append(\"spurious\")\n",
    "        else:\n",
    "            self.other.append(lno)\n",
    "            self.all.append(\"other\")\n",
    "        \n",
    "    def parse_cmd_rsp(self,line,lno):\n",
    "        \"\"\"\n",
    "        Parse a \"sending\" or \"receiving\" line, returning\n",
    "        the line number, system time, and a px.command object\n",
    "        encoding the message sent to the ACB or received from\n",
    "        it\n",
    "        \"\"\"\n",
    "        \n",
    "        # handle the non px fields\n",
    "        l = line.split(' ')\n",
    "        t = float(l[1][:-3])\n",
    "        \n",
    "        # format the px field for parsing \n",
    "        val = ''\n",
    "        for v in l[2:]:\n",
    "            if len(v) != 2:\n",
    "                v = '0'+v\n",
    "            val += v\n",
    "                \n",
    "        return lno,t,command(val)\n",
    "        \n",
    "    def analyze(self):\n",
    "        \n",
    "        \n",
    "        # create arrays of the header index values for commands and responses\n",
    "        self.cmd_header = np.array([c[2].header for c in self.cmd])\n",
    "        self.rsp_header = np.array([c[2].header for c in self.rsp])\n",
    "        \n",
    "        # create arrays of the system times of each command or response\n",
    "        self.cmd_time = np.array([c[1] for c in self.cmd])\n",
    "        self.rsp_time = np.array([c[1] for c in self.rsp])\n",
    "        \n",
    "        # create arrays containing the line numbers of each command or response\n",
    "        self.cmd_lno = np.array([c[0] for c in self.cmd])\n",
    "        self.rsp_lno = np.array([c[0] for c in self.rsp])\n",
    "        \n",
    "        _all = np.array(self.all)\n",
    "        \n",
    "        \n",
    "        # arrays that are true at an index if index+1 is a line number with the coressponding error message\n",
    "        self.spurious_flag = (_all == \"spurious\")\n",
    "        self.invalid_flag = (_all == \"invalid\")\n",
    "        \n",
    "        self.spurious_rate = np.sum(self.spurious_flag) / float(len(_all))\n",
    "        self.invalid_rate = np.sum(self.invalid_flag) / float(len(_all))\n",
    "        \n",
    "        # approximation to the resend rate\n",
    "        l = float(len(self.cmd_lno)+len(self.rsp_lno))\n",
    "        \n",
    "        self.cmd_resend_rate = (np.sum( np.diff(self.cmd_lno) < 2 ) + np.sum( np.diff(self.rsp_lno) > 2 )) / l\n",
    "        self.rsp_resend_rate = (np.sum( np.diff(self.cmd_lno) > 2 ) + np.sum( np.diff(self.rsp_lno) < 2 )) / l"
   ]
  },
  {
   "cell_type": "code",
   "execution_count": 26,
   "metadata": {
    "collapsed": false
   },
   "outputs": [],
   "source": [
    "log95 = log(\"log_RP95Hz.txt\")\n",
    "log80 = log(\"log_RP80Hz.txt\")\n",
    "log59 = log(\"log_RP59Hz.txt\")"
   ]
  },
  {
   "cell_type": "code",
   "execution_count": 58,
   "metadata": {
    "collapsed": false
   },
   "outputs": [
    {
     "data": {
      "text/plain": [
       "<matplotlib.legend.Legend at 0x17174550>"
      ]
     },
     "execution_count": 58,
     "metadata": {},
     "output_type": "execute_result"
    }
   ],
   "source": [
    "ylabel(\"Command Header Value\")\n",
    "xlabel(\"Command Number\")\n",
    "\n",
    "plot( log95.cmd_header, label = \"95 Hz\",linewidth=2 )\n",
    "plot( log80.cmd_header, label = \"80 Hz\",linewidth=2 )\n",
    "plot( log59.cmd_header, label = \"59 Hz\",linewidth=2 )\n",
    "\n",
    "legend()"
   ]
  },
  {
   "cell_type": "code",
   "execution_count": 64,
   "metadata": {
    "collapsed": false
   },
   "outputs": [
    {
     "data": {
      "text/plain": [
       "<matplotlib.legend.Legend at 0x17669080>"
      ]
     },
     "execution_count": 64,
     "metadata": {},
     "output_type": "execute_result"
    }
   ],
   "source": [
    "ylabel(\"Response Header Value\")\n",
    "xlabel(\"Response Number\")\n",
    "\n",
    "plot( log95.rsp_header, label = \"95 Hz\",linewidth=2 )\n",
    "plot( log80.rsp_header, label = \"80 Hz\",linewidth=2 )\n",
    "plot( log59.rsp_header, label = \"59 Hz\",linewidth=2 )\n",
    "\n",
    "legend()"
   ]
  },
  {
   "cell_type": "code",
   "execution_count": 74,
   "metadata": {
    "collapsed": false
   },
   "outputs": [
    {
     "data": {
      "text/plain": [
       "<matplotlib.legend.Legend at 0x209bd710>"
      ]
     },
     "execution_count": 74,
     "metadata": {},
     "output_type": "execute_result"
    }
   ],
   "source": [
    "ylabel(\"d cmd position / d line number\")\n",
    "xlabel(\"Line Number\")\n",
    "\n",
    "s = 200\n",
    "e = 700\n",
    "\n",
    "#plot( np.diff(log95.cmd_lno)[s:e], label = \"95 Hz\",linewidth=2, color = 'b' )\n",
    "#plot( np.diff(log80.cmd_lno)[s:e], label = \"80 Hz\",linewidth=2, color = 'g' )\n",
    "plot( np.diff(log59.cmd_lno)[s:e], label = \"59 Hz\",linewidth=2, color = 'r' )\n",
    "\n",
    "legend()"
   ]
  },
  {
   "cell_type": "code",
   "execution_count": 7,
   "metadata": {
    "collapsed": false
   },
   "outputs": [
    {
     "data": {
      "text/plain": [
       "<matplotlib.legend.Legend at 0xdc80c88>"
      ]
     },
     "execution_count": 7,
     "metadata": {},
     "output_type": "execute_result"
    }
   ],
   "source": [
    "ylabel(\"d rsp position / d line number\")\n",
    "xlabel(\"Line Number\")\n",
    "\n",
    "s = 200\n",
    "e = 700\n",
    "\n",
    "plot( np.diff(log95.rsp_lno)[s:e], label = \"95 Hz\",linewidth=2, color = 'b' )\n",
    "plot( np.diff(log80.rsp_lno)[s:e], label = \"80 Hz\",linewidth=2, color = 'g' )\n",
    "plot( np.diff(log59.rsp_lno)[s:e], label = \"59 Hz\",linewidth=2, color = 'r' )\n",
    "\n",
    "legend()"
   ]
  }
 ],
 "metadata": {
  "kernelspec": {
   "display_name": "Python 2",
   "language": "python",
   "name": "python2"
  },
  "language_info": {
   "codemirror_mode": {
    "name": "ipython",
    "version": 2
   },
   "file_extension": ".py",
   "mimetype": "text/x-python",
   "name": "python",
   "nbconvert_exporter": "python",
   "pygments_lexer": "ipython2",
   "version": "2.7.6"
  }
 },
 "nbformat": 4,
 "nbformat_minor": 0
}

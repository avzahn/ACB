{
 "cells": [
  {
   "cell_type": "code",
   "execution_count": 1,
   "metadata": {
    "collapsed": false
   },
   "outputs": [
    {
     "name": "stdout",
     "output_type": "stream",
     "text": [
      "Using matplotlib backend: Qt5Agg\n",
      "Populating the interactive namespace from numpy and matplotlib\n"
     ]
    }
   ],
   "source": [
    "%pylab\n",
    "from px import *\n",
    "import numpy as np\n",
    "\n",
    "class log(object):\n",
    "    def __init__(self,logname):\n",
    "        \n",
    "        with open(logname, 'r') as f:\n",
    "             self.lines = f.readlines()\n",
    "                \n",
    "        self.invalid = []\n",
    "        self.rsp = []\n",
    "        self.cmd = []\n",
    "        self.other = []\n",
    "        self.spurious = []\n",
    "        self.all = []\n",
    "        \n",
    "        lno = 1\n",
    "        for line in self.lines:\n",
    "            self.parse_line(line,lno)\n",
    "            lno += 1\n",
    "            \n",
    "        self.headers()\n",
    "            \n",
    "    def parse_line(self,line,lno):\n",
    "        \n",
    "        if \"sending\" in line:\n",
    "            self.cmd.append(self.parse_cmd_rsp(line,lno))\n",
    "            self.all.append(\"cmd\")\n",
    "        elif \"receiving\" in line:\n",
    "            self.rsp.append(self.parse_cmd_rsp(line,lno))\n",
    "            self.all.append(\"rsp\")\n",
    "        elif \"invalid\" in line:\n",
    "            self.invalid.append(lno)\n",
    "            self.all.append(\"invalid\")\n",
    "        elif \"Spurious\" in line:\n",
    "            self.spurious.append(lno)\n",
    "            self.all.append(\"spurious\")\n",
    "        else:\n",
    "            self.other.append(lno)\n",
    "            self.all.append(\"other\")\n",
    "            \n",
    "        _all = np.array(self.all)\n",
    "            \n",
    "        self.spurious_flag = _all == \"spurious\"\n",
    "        self.invalid_flag = _all == \"invalid\"\n",
    "        \n",
    "        self.spurious_rate = np.sum(self.spurious_flag) / float(len(_all))\n",
    "        self.invalid_rate = np.sum(self.invalid_flag) / float(len(_all))\n",
    "        \n",
    "        # approximation to the resend rate\n",
    "        self.cmd_resend_rate = np.sum( np.diff(self.cmd_lno) != 2 )\n",
    "        self.rsp_resend_rate = np.sum( np.diff(self.rsp_lno) != 2 )\n",
    "        \n",
    "    def parse_cmd_rsp(self,line,lno):\n",
    "            \n",
    "        l = line.split(' ')\n",
    "        t = float(l[1][:-3])\n",
    "        val = ''\n",
    "        for v in l[2:]:\n",
    "            if len(v) != 2:\n",
    "                v = '0'+v\n",
    "            val += v\n",
    "                \n",
    "        return lno,t,command(val)\n",
    "        \n",
    "    def headers(self):\n",
    "        \n",
    "        self.cmd_header = np.array([c[2].header for c in self.cmd])\n",
    "        self.rsp_header = np.array([c[2].header for c in self.rsp])\n",
    "        \n",
    "        self.cmd_time = np.array([c[1] for c in self.cmd])\n",
    "        self.rsp_time = np.array([c[1] for c in self.rsp])\n",
    "        \n",
    "        self.cmd_lno = np.array([c[0] for c in self.cmd])\n",
    "        self.rsp_lno = np.array([c[0] for c in self.rsp])"
   ]
  },
  {
   "cell_type": "code",
   "execution_count": 2,
   "metadata": {
    "collapsed": false
   },
   "outputs": [
    {
     "ename": "IOError",
     "evalue": "[Errno 2] No such file or directory: 'log_RP95Hz.txt'",
     "output_type": "error",
     "traceback": [
      "\u001b[1;31m---------------------------------------------------------------------------\u001b[0m",
      "\u001b[1;31mIOError\u001b[0m                                   Traceback (most recent call last)",
      "\u001b[1;32m<ipython-input-2-09b84306d735>\u001b[0m in \u001b[0;36m<module>\u001b[1;34m()\u001b[0m\n\u001b[1;32m----> 1\u001b[1;33m \u001b[0mlog95\u001b[0m \u001b[1;33m=\u001b[0m \u001b[0mlog\u001b[0m\u001b[1;33m(\u001b[0m\u001b[1;34m\"log_RP95Hz.txt\"\u001b[0m\u001b[1;33m)\u001b[0m\u001b[1;33m\u001b[0m\u001b[0m\n\u001b[0m\u001b[0;32m      2\u001b[0m \u001b[0mlog80\u001b[0m \u001b[1;33m=\u001b[0m \u001b[0mlog\u001b[0m\u001b[1;33m(\u001b[0m\u001b[1;34m\"log_RP80Hz.txt\"\u001b[0m\u001b[1;33m)\u001b[0m\u001b[1;33m\u001b[0m\u001b[0m\n\u001b[0;32m      3\u001b[0m \u001b[0mlog59\u001b[0m \u001b[1;33m=\u001b[0m \u001b[0mlog\u001b[0m\u001b[1;33m(\u001b[0m\u001b[1;34m\"log_RP59Hz.txt\"\u001b[0m\u001b[1;33m)\u001b[0m\u001b[1;33m\u001b[0m\u001b[0m\n",
      "\u001b[1;32m<ipython-input-1-b51f16b6b969>\u001b[0m in \u001b[0;36m__init__\u001b[1;34m(self, logname)\u001b[0m\n\u001b[0;32m      6\u001b[0m     \u001b[1;32mdef\u001b[0m \u001b[0m__init__\u001b[0m\u001b[1;33m(\u001b[0m\u001b[0mself\u001b[0m\u001b[1;33m,\u001b[0m\u001b[0mlogname\u001b[0m\u001b[1;33m)\u001b[0m\u001b[1;33m:\u001b[0m\u001b[1;33m\u001b[0m\u001b[0m\n\u001b[0;32m      7\u001b[0m \u001b[1;33m\u001b[0m\u001b[0m\n\u001b[1;32m----> 8\u001b[1;33m         \u001b[1;32mwith\u001b[0m \u001b[0mopen\u001b[0m\u001b[1;33m(\u001b[0m\u001b[0mlogname\u001b[0m\u001b[1;33m,\u001b[0m \u001b[1;34m'r'\u001b[0m\u001b[1;33m)\u001b[0m \u001b[1;32mas\u001b[0m \u001b[0mf\u001b[0m\u001b[1;33m:\u001b[0m\u001b[1;33m\u001b[0m\u001b[0m\n\u001b[0m\u001b[0;32m      9\u001b[0m              \u001b[0mself\u001b[0m\u001b[1;33m.\u001b[0m\u001b[0mlines\u001b[0m \u001b[1;33m=\u001b[0m \u001b[0mf\u001b[0m\u001b[1;33m.\u001b[0m\u001b[0mreadlines\u001b[0m\u001b[1;33m(\u001b[0m\u001b[1;33m)\u001b[0m\u001b[1;33m\u001b[0m\u001b[0m\n\u001b[0;32m     10\u001b[0m \u001b[1;33m\u001b[0m\u001b[0m\n",
      "\u001b[1;31mIOError\u001b[0m: [Errno 2] No such file or directory: 'log_RP95Hz.txt'"
     ]
    }
   ],
   "source": [
    "log95 = log(\"log_RP95Hz.txt\")\n",
    "log80 = log(\"log_RP80Hz.txt\")\n",
    "log59 = log(\"log_RP59Hz.txt\")"
   ]
  },
  {
   "cell_type": "code",
   "execution_count": 24,
   "metadata": {
    "collapsed": false
   },
   "outputs": [
    {
     "data": {
      "text/plain": [
       "[<matplotlib.lines.Line2D at 0x41f9908>]"
      ]
     },
     "execution_count": 24,
     "metadata": {},
     "output_type": "execute_result"
    }
   ],
   "source": [
    "plot( np.diff(cmd95_lno) )"
   ]
  },
  {
   "cell_type": "code",
   "execution_count": null,
   "metadata": {
    "collapsed": false
   },
   "outputs": [],
   "source": [
    "ls"
   ]
  },
  {
   "cell_type": "code",
   "execution_count": 58,
   "metadata": {
    "collapsed": false
   },
   "outputs": [
    {
     "data": {
      "text/plain": [
       "<matplotlib.legend.Legend at 0x17174550>"
      ]
     },
     "execution_count": 58,
     "metadata": {},
     "output_type": "execute_result"
    }
   ],
   "source": [
    "ylabel(\"Command Header Value\")\n",
    "xlabel(\"Command Number\")\n",
    "\n",
    "plot( log95.cmd_header, label = \"95 Hz\",linewidth=2 )\n",
    "plot( log80.cmd_header, label = \"80 Hz\",linewidth=2 )\n",
    "plot( log59.cmd_header, label = \"59 Hz\",linewidth=2 )\n",
    "\n",
    "legend()"
   ]
  },
  {
   "cell_type": "code",
   "execution_count": 64,
   "metadata": {
    "collapsed": false
   },
   "outputs": [
    {
     "data": {
      "text/plain": [
       "<matplotlib.legend.Legend at 0x17669080>"
      ]
     },
     "execution_count": 64,
     "metadata": {},
     "output_type": "execute_result"
    }
   ],
   "source": [
    "ylabel(\"Response Header Value\")\n",
    "xlabel(\"Response Number\")\n",
    "\n",
    "plot( log95.rsp_header, label = \"95 Hz\",linewidth=2 )\n",
    "plot( log80.rsp_header, label = \"80 Hz\",linewidth=2 )\n",
    "plot( log59.rsp_header, label = \"59 Hz\",linewidth=2 )\n",
    "\n",
    "legend()"
   ]
  },
  {
   "cell_type": "code",
   "execution_count": 74,
   "metadata": {
    "collapsed": false
   },
   "outputs": [
    {
     "data": {
      "text/plain": [
       "<matplotlib.legend.Legend at 0x209bd710>"
      ]
     },
     "execution_count": 74,
     "metadata": {},
     "output_type": "execute_result"
    }
   ],
   "source": [
    "ylabel(\"d cmd position / d line number\")\n",
    "xlabel(\"Line Number\")\n",
    "\n",
    "s = 200\n",
    "e = 700\n",
    "\n",
    "#plot( np.diff(log95.cmd_lno)[s:e], label = \"95 Hz\",linewidth=2, color = 'b' )\n",
    "#plot( np.diff(log80.cmd_lno)[s:e], label = \"80 Hz\",linewidth=2, color = 'g' )\n",
    "plot( np.diff(log59.cmd_lno)[s:e], label = \"59 Hz\",linewidth=2, color = 'r' )\n",
    "\n",
    "legend()"
   ]
  },
  {
   "cell_type": "code",
   "execution_count": 18,
   "metadata": {
    "collapsed": false
   },
   "outputs": [
    {
     "data": {
      "text/plain": [
       "[<matplotlib.lines.Line2D at 0x6585f60>]"
      ]
     },
     "execution_count": 18,
     "metadata": {},
     "output_type": "execute_result"
    }
   ],
   "source": [
    "plot(np.diff(log95.cmd_time))"
   ]
  },
  {
   "cell_type": "code",
   "execution_count": 19,
   "metadata": {
    "collapsed": false
   },
   "outputs": [
    {
     "data": {
      "text/plain": [
       "[<matplotlib.lines.Line2D at 0x473b160>]"
      ]
     },
     "execution_count": 19,
     "metadata": {},
     "output_type": "execute_result"
    }
   ],
   "source": [
    "plot(log95.cmd_time)"
   ]
  },
  {
   "cell_type": "code",
   "execution_count": 20,
   "metadata": {
    "collapsed": false
   },
   "outputs": [
    {
     "data": {
      "text/plain": [
       "[<matplotlib.lines.Line2D at 0x4081be0>]"
      ]
     },
     "execution_count": 20,
     "metadata": {},
     "output_type": "execute_result"
    }
   ],
   "source": [
    "plot(log59.cmd_time)"
   ]
  },
  {
   "cell_type": "code",
   "execution_count": 35,
   "metadata": {
    "collapsed": false
   },
   "outputs": [
    {
     "data": {
      "text/plain": [
       "[<matplotlib.lines.Line2D at 0x6127e80>]"
      ]
     },
     "execution_count": 35,
     "metadata": {},
     "output_type": "execute_result"
    }
   ],
   "source": [
    "plot(log95.spurious_flag)"
   ]
  },
  {
   "cell_type": "code",
   "execution_count": 75,
   "metadata": {
    "collapsed": false
   },
   "outputs": [
    {
     "data": {
      "text/plain": [
       "<matplotlib.collections.PathCollection at 0x2119f438>"
      ]
     },
     "execution_count": 75,
     "metadata": {},
     "output_type": "execute_result"
    }
   ],
   "source": [
    "scatter(np.arange(len(log95.all)),log95.invalid_flag,color=\"b\")\n",
    "scatter(np.arange(len(log80.all)),log80.invalid_flag,marker=\"+\",color=\"g\")\n",
    "scatter(np.arange(len(log59.all)),log59.invalid_flag,marker=\"+\",color=\"r\")"
   ]
  },
  {
   "cell_type": "code",
   "execution_count": 50,
   "metadata": {
    "collapsed": false
   },
   "outputs": [
    {
     "data": {
      "text/plain": [
       "0.031350681536555146"
      ]
     },
     "execution_count": 50,
     "metadata": {},
     "output_type": "execute_result"
    }
   ],
   "source": [
    "np.sum(log59.spurious_flag) / float(len(log59.spurious_flag))"
   ]
  },
  {
   "cell_type": "code",
   "execution_count": 49,
   "metadata": {
    "collapsed": false
   },
   "outputs": [
    {
     "data": {
      "text/plain": [
       "0.041534054742202418"
      ]
     },
     "execution_count": 49,
     "metadata": {},
     "output_type": "execute_result"
    }
   ],
   "source": [
    "np.sum(log80.spurious_flag) /float(len(log80.spurious_flag))"
   ]
  },
  {
   "cell_type": "code",
   "execution_count": 48,
   "metadata": {
    "collapsed": false
   },
   "outputs": [
    {
     "data": {
      "text/plain": [
       "0.1117774046533941"
      ]
     },
     "execution_count": 48,
     "metadata": {},
     "output_type": "execute_result"
    }
   ],
   "source": [
    "np.sum(log95.spurious_flag) / float(len(log95.spurious_flag))"
   ]
  },
  {
   "cell_type": "code",
   "execution_count": 62,
   "metadata": {
    "collapsed": false
   },
   "outputs": [
    {
     "data": {
      "text/plain": [
       "(1781, 0.359546, <px.command at 0x6026048>)"
      ]
     },
     "execution_count": 62,
     "metadata": {},
     "output_type": "execute_result"
    }
   ],
   "source": [
    "log95.rsp[0]"
   ]
  },
  {
   "cell_type": "code",
   "execution_count": 63,
   "metadata": {
    "collapsed": false
   },
   "outputs": [
    {
     "data": {
      "text/plain": [
       "42427"
      ]
     },
     "execution_count": 63,
     "metadata": {},
     "output_type": "execute_result"
    }
   ],
   "source": [
    "int(\"a5bb\",16)"
   ]
  },
  {
   "cell_type": "code",
   "execution_count": 80,
   "metadata": {
    "collapsed": false
   },
   "outputs": [
    {
     "data": {
      "text/plain": [
       "0.041534054742202418"
      ]
     },
     "execution_count": 80,
     "metadata": {},
     "output_type": "execute_result"
    }
   ],
   "source": [
    "log80.spurious_rate"
   ]
  },
  {
   "cell_type": "code",
   "execution_count": 86,
   "metadata": {
    "collapsed": false
   },
   "outputs": [
    {
     "data": {
      "text/plain": [
       "[<matplotlib.lines.Line2D at 0x125ad940>]"
      ]
     },
     "execution_count": 86,
     "metadata": {},
     "output_type": "execute_result"
    }
   ],
   "source": [
    "plot(np.diff(log95.cmd_lno))\n",
    "plot(log95.invalid_flag)\n",
    "plot(log95.spurious_flag)"
   ]
  },
  {
   "cell_type": "code",
   "execution_count": 6,
   "metadata": {
    "collapsed": false
   },
   "outputs": [
    {
     "data": {
      "text/plain": [
       "0.9375"
      ]
     },
     "execution_count": 6,
     "metadata": {},
     "output_type": "execute_result"
    }
   ],
   "source": [
    "1000* (1./(9600/9.))"
   ]
  },
  {
   "cell_type": "code",
   "execution_count": 7,
   "metadata": {
    "collapsed": false
   },
   "outputs": [
    {
     "data": {
      "text/plain": [
       "12.0"
      ]
     },
     "execution_count": 7,
     "metadata": {},
     "output_type": "execute_result"
    }
   ],
   "source": [
    "115200./9600"
   ]
  },
  {
   "cell_type": "code",
   "execution_count": null,
   "metadata": {
    "collapsed": true
   },
   "outputs": [],
   "source": []
  }
 ],
 "metadata": {
  "kernelspec": {
   "display_name": "Python 2",
   "language": "python",
   "name": "python2"
  },
  "language_info": {
   "codemirror_mode": {
    "name": "ipython",
    "version": 2
   },
   "file_extension": ".py",
   "mimetype": "text/x-python",
   "name": "python",
   "nbconvert_exporter": "python",
   "pygments_lexer": "ipython2",
   "version": "2.7.9"
  }
 },
 "nbformat": 4,
 "nbformat_minor": 0
}
